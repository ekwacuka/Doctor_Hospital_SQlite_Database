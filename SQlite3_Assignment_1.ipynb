{
 "cells": [
  {
   "cell_type": "code",
   "execution_count": null,
   "metadata": {},
   "outputs": [],
   "source": [
    "# Create a SQlite database connection to a database that resides in the memory.\n",
    "\n",
    "import sqlite3\n",
    "\n",
    "conn = sqlite3.connect(':memory:') # connect to a database in the memory\n",
    "\n",
    "cursor = conn.cursor()             # instantiate a cursor obj\n",
    "\n",
    "print(\"Connection to a Database in Memory: DONE \\n\")\n",
    " \n",
    "conn = conn.execute(\"select sqlite_version();\")\n",
    "\n",
    "print(\"SQlite Database Version is:  \", conn.fetchall(),)\n"
   ]
  },
  {
   "cell_type": "code",
   "execution_count": null,
   "metadata": {},
   "outputs": [],
   "source": [
    "#Create a database connection and a cursor to execute queries.\n",
    "\n",
    "import sqlite3\n",
    "import csv\n",
    "conn = sqlite3.connect('medic1.db')\n",
    "cursor = conn.cursor()\n",
    "\n",
    "print(\"MEDIC1 Database created\")"
   ]
  },
  {
   "cell_type": "code",
   "execution_count": null,
   "metadata": {},
   "outputs": [],
   "source": [
    "# Executes a query that creates Hospital table\n",
    "\n",
    "cursor.execute(''' CREATE TABLE IF NOT EXISTS hospitals (\n",
    "        HOSPITAL_ID INT NOT NULL UNIQUE,\n",
    "        HOSPITAL_NAME TEXT NOT NULL,\n",
    "        BED_COUNT INT);''')\n",
    "\n",
    "conn = conn.execute(\"PRAGMA table_info('hospitals');\") # Display tabke structure\n",
    "\n",
    "print(\"\\t HOSPITAL TABLE STRUCTURE \\n\")\n",
    "\n",
    "for x in conn.fetchall():\n",
    "    print(x)\n",
    "\n"
   ]
  },
  {
   "cell_type": "code",
   "execution_count": null,
   "metadata": {},
   "outputs": [],
   "source": [
    "# Executes a query that creates Doctors table\n",
    "\n",
    "cursor.execute(''' CREATE TABLE IF NOT EXISTS doctors (\n",
    "        DOCTOR_ID INT NOT NULL UNIQUE,\n",
    "        DOCTOR_NAME TEXT NOT NULL,\n",
    "        DOCTOR_EMAIL TEXT NOT NULL UNIQUE,\n",
    "        HOSPITAL_ID INT NOT NULL UNIQUE,\n",
    "        DATE_JOINED DATE, \n",
    "        SPECIALITY TEXT NOT NULL,\n",
    "        SALARY INT NOT NULL,\n",
    "        EXPERIENCE DATE)''')\n",
    "\n",
    "conn = conn.execute(\"PRAGMA table_info('doctors');\") # Display tabke structure\n",
    "\n",
    "print(\"\\t HOSPITAL TABLE STRUCTURE \\n\")\n",
    "\n",
    "for x in conn.fetchall():\n",
    "    print(x)\n",
    "\n"
   ]
  },
  {
   "cell_type": "code",
   "execution_count": null,
   "metadata": {},
   "outputs": [],
   "source": [
    "# Loads a Hospitals csv file into a sqlite table.\n",
    "\n",
    "conn = sqlite3.connect('medic1.db')\n",
    "cursor = conn.cursor()\n",
    "\n",
    "a_file = open(\"C:\\\\Users\\Emily Kimani\\Desktop\\Adv_Python\\SQlite3\\Hospitals.csv\")\n",
    "rows = csv.reader(a_file)\n",
    "next(rows, None)    # skip the headers\n",
    "cursor.executemany(\"INSERT INTO hospitals VALUES (?,?,?)\", rows)\n",
    "\n",
    "\n",
    "cursor.execute(\"SELECT * FROM hospitals\")\n",
    "\n",
    "\n",
    "print(\"\\t HOSPITAL INFORMATION TABLE \\n\")\n",
    "medic = cursor.fetchall()\n",
    "for medics in medic:\n",
    "    print(medics)\n",
    "    \n",
    "conn.commit()"
   ]
  },
  {
   "cell_type": "code",
   "execution_count": null,
   "metadata": {},
   "outputs": [],
   "source": [
    "# Loads a Doctors csv file into a sqlite table.\n",
    "\n",
    "conn = sqlite3.connect('medic1.db')\n",
    "cursor = conn.cursor()\n",
    "\n",
    "a_file = open(\"C:\\\\Users\\Emily Kimani\\Desktop\\Adv_Python\\SQlite3\\Doctors.csv\")\n",
    "rows = csv.reader(a_file)\n",
    "next(rows, None)    # skip the headers\n",
    "cursor.executemany(\"INSERT INTO doctors VALUES (?,?,?,?,?,?,?,?)\", rows)\n",
    "\n",
    "\n",
    "cursor.execute(\"SELECT * FROM doctors\")\n",
    "\n",
    "print(\"\\t DOCTORS INFORMATION TABLE \\n\")\n",
    "\n",
    "medic = cursor.fetchall()\n",
    "for medics in medic:\n",
    "    print(medics)\n",
    "    \n",
    "conn.commit()\n"
   ]
  },
  {
   "cell_type": "code",
   "execution_count": null,
   "metadata": {},
   "outputs": [],
   "source": [
    "# Join Hospital Table to Doctors Table using the Hospital_ID\n",
    "\n",
    "cursor.execute('''SELECT * FROM hospitals INNER JOIN doctors ON hospitals.hospital_id = doctors.hospital_id''')\n",
    "\n",
    "medic = cursor.fetchall()\n",
    "\n",
    "for medics in medic:\n",
    "    print(medics)\n",
    "    \n",
    "conn.commit()"
   ]
  },
  {
   "cell_type": "code",
   "execution_count": null,
   "metadata": {},
   "outputs": [],
   "source": [
    "cursor.execute('''SELECT doctors.*,hospitals.hospital_name,hospitals.bed_count\n",
    "            FROM doctors, hospitals\n",
    "            WHERE doctors.hospital_id = hospitals.hospital_id''')\n",
    "\n",
    "#print(cursor.fetchall())\n",
    "\n",
    "medic = cursor.fetchall()\n",
    "\n",
    "for medics in medic:\n",
    "    print(medics)\n",
    "\n",
    "conn.commit()"
   ]
  },
  {
   "cell_type": "code",
   "execution_count": null,
   "metadata": {},
   "outputs": [],
   "source": [
    "# Add a record\n",
    "\n",
    "conn = sqlite3.connect('medic1.db')\n",
    "cursor = conn.cursor()\n",
    "\n",
    "cursor.execute('''INSERT INTO hospitals(HOSPITAL_ID,HOSPITAL_NAME,BED_COUNT) \n",
    "            VALUES(6, 'Acworth Hospital', 200)''')\n",
    "\n",
    "cursor.execute(\"SELECT * FROM hospitals\")\n",
    "\n",
    "print(cursor.fetchall())\n",
    "\n",
    "conn.commit()\n",
    "conn.close()"
   ]
  },
  {
   "cell_type": "code",
   "execution_count": null,
   "metadata": {},
   "outputs": [],
   "source": []
  }
 ],
 "metadata": {
  "kernelspec": {
   "display_name": "Python 3",
   "language": "python",
   "name": "python3"
  },
  "language_info": {
   "codemirror_mode": {
    "name": "ipython",
    "version": 3
   },
   "file_extension": ".py",
   "mimetype": "text/x-python",
   "name": "python",
   "nbconvert_exporter": "python",
   "pygments_lexer": "ipython3",
   "version": "3.8.5"
  }
 },
 "nbformat": 4,
 "nbformat_minor": 4
}
