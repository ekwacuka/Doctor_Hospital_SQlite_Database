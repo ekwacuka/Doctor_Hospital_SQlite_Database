{
 "cells": [
  {
   "cell_type": "code",
   "execution_count": 25,
   "metadata": {},
   "outputs": [
    {
     "name": "stdout",
     "output_type": "stream",
     "text": [
      "Connection to a Database in Memory: DONE \n",
      "\n",
      "SQlite Database Version is:   [('3.33.0',)]\n"
     ]
    }
   ],
   "source": [
    "# Create a SQlite database connection to a database that resides in the memory.\n",
    "\n",
    "import sqlite3\n",
    "\n",
    "conn = sqlite3.connect(':memory:') # connect to a database in the memory\n",
    "\n",
    "cursor = conn.cursor()             # instantiate a cursor obj\n",
    "\n",
    "print(\"Connection to a Database in Memory: DONE \\n\")\n",
    " \n",
    "conn = conn.execute(\"select sqlite_version();\")\n",
    "\n",
    "print(\"SQlite Database Version is:  \", conn.fetchall(),)\n"
   ]
  },
  {
   "cell_type": "code",
   "execution_count": 4,
   "metadata": {},
   "outputs": [
    {
     "name": "stdout",
     "output_type": "stream",
     "text": [
      "MEDIC1 Database created\n"
     ]
    }
   ],
   "source": [
    "#Create a database connection and a cursor to execute queries.\n",
    "\n",
    "import sqlite3\n",
    "import csv\n",
    "conn = sqlite3.connect('medic1.db')\n",
    "cursor = conn.cursor()\n",
    "\n",
    "print(\"MEDIC1 Database created\")"
   ]
  },
  {
   "cell_type": "code",
   "execution_count": 7,
   "metadata": {},
   "outputs": [
    {
     "name": "stdout",
     "output_type": "stream",
     "text": [
      "\t HOSPITAL TABLE STRUCTURE \n",
      "\n",
      "(0, 'HOSPITAL_ID', 'INT', 1, None, 0)\n",
      "(1, 'HOSPITAL_NAME', 'TEXT', 1, None, 0)\n",
      "(2, 'BED_COUNT', 'INT', 0, None, 0)\n"
     ]
    }
   ],
   "source": [
    "# Executes a query that creates a table\n",
    "\n",
    "cursor.execute(''' CREATE TABLE IF NOT EXISTS hospitals (\n",
    "        HOSPITAL_ID INT NOT NULL UNIQUE,\n",
    "        HOSPITAL_NAME TEXT NOT NULL,\n",
    "        BED_COUNT INT);''')\n",
    "\n",
    "conn = conn.execute(\"PRAGMA table_info('hospitals');\")\n",
    "\n",
    "print(\"\\t HOSPITAL TABLE STRUCTURE \\n\")\n",
    "\n",
    "for x in conn.fetchall():\n",
    "    print(x)\n",
    "\n"
   ]
  },
  {
   "cell_type": "code",
   "execution_count": 9,
   "metadata": {},
   "outputs": [
    {
     "name": "stdout",
     "output_type": "stream",
     "text": [
      "\t HOSPITAL TABLE STRUCTURE \n",
      "\n",
      "(0, 'DOCTOR_ID', 'INT', 1, None, 0)\n",
      "(1, 'DOCTOR_NAME', 'TEXT', 1, None, 0)\n",
      "(2, 'DOCTOR_EMAIL', 'TEXT', 1, None, 0)\n",
      "(3, 'HOSPITAL_ID', 'INT', 1, None, 0)\n",
      "(4, 'DATE_JOINED', 'DATE', 0, None, 0)\n",
      "(5, 'SPECIALITY', 'TEXT', 1, None, 0)\n",
      "(6, 'SALARY', 'INT', 1, None, 0)\n",
      "(7, 'EXPERIENCE', 'DATE', 0, None, 0)\n"
     ]
    }
   ],
   "source": [
    "cursor.execute(''' CREATE TABLE IF NOT EXISTS doctors (\n",
    "        DOCTOR_ID INT NOT NULL UNIQUE,\n",
    "        DOCTOR_NAME TEXT NOT NULL,\n",
    "        DOCTOR_EMAIL TEXT NOT NULL UNIQUE,\n",
    "        HOSPITAL_ID INT NOT NULL UNIQUE,\n",
    "        DATE_JOINED DATE, \n",
    "        SPECIALITY TEXT NOT NULL,\n",
    "        SALARY INT NOT NULL,\n",
    "        EXPERIENCE DATE)''')\n",
    "\n",
    "conn = conn.execute(\"PRAGMA table_info('doctors');\")\n",
    "\n",
    "print(\"\\t HOSPITAL TABLE STRUCTURE \\n\")\n",
    "\n",
    "for x in conn.fetchall():\n",
    "    print(x)\n",
    "\n"
   ]
  },
  {
   "cell_type": "code",
   "execution_count": 13,
   "metadata": {},
   "outputs": [
    {
     "ename": "IntegrityError",
     "evalue": "UNIQUE constraint failed: hospitals.HOSPITAL_ID",
     "output_type": "error",
     "traceback": [
      "\u001b[1;31m---------------------------------------------------------------------------\u001b[0m",
      "\u001b[1;31mIntegrityError\u001b[0m                            Traceback (most recent call last)",
      "\u001b[1;32m<ipython-input-13-6ef97ab4b15e>\u001b[0m in \u001b[0;36m<module>\u001b[1;34m\u001b[0m\n\u001b[0;32m      7\u001b[0m \u001b[0mrows\u001b[0m \u001b[1;33m=\u001b[0m \u001b[0mcsv\u001b[0m\u001b[1;33m.\u001b[0m\u001b[0mreader\u001b[0m\u001b[1;33m(\u001b[0m\u001b[0ma_file\u001b[0m\u001b[1;33m)\u001b[0m\u001b[1;33m\u001b[0m\u001b[1;33m\u001b[0m\u001b[0m\n\u001b[0;32m      8\u001b[0m \u001b[0mnext\u001b[0m\u001b[1;33m(\u001b[0m\u001b[0mrows\u001b[0m\u001b[1;33m,\u001b[0m \u001b[1;32mNone\u001b[0m\u001b[1;33m)\u001b[0m    \u001b[1;31m# skip the headers\u001b[0m\u001b[1;33m\u001b[0m\u001b[1;33m\u001b[0m\u001b[0m\n\u001b[1;32m----> 9\u001b[1;33m \u001b[0mcursor\u001b[0m\u001b[1;33m.\u001b[0m\u001b[0mexecutemany\u001b[0m\u001b[1;33m(\u001b[0m\u001b[1;34m\"INSERT INTO hospitals VALUES (?,?,?)\"\u001b[0m\u001b[1;33m,\u001b[0m \u001b[0mrows\u001b[0m\u001b[1;33m)\u001b[0m\u001b[1;33m\u001b[0m\u001b[1;33m\u001b[0m\u001b[0m\n\u001b[0m\u001b[0;32m     10\u001b[0m \u001b[1;33m\u001b[0m\u001b[0m\n\u001b[0;32m     11\u001b[0m \u001b[1;33m\u001b[0m\u001b[0m\n",
      "\u001b[1;31mIntegrityError\u001b[0m: UNIQUE constraint failed: hospitals.HOSPITAL_ID"
     ]
    }
   ],
   "source": [
    "# Loads a Hospitals csv file into a sqlite table.\n",
    "\n",
    "conn = sqlite3.connect('medic1.db')\n",
    "cursor = conn.cursor()\n",
    "\n",
    "a_file = open(\"C:\\\\Users\\Emily Kimani\\Desktop\\Adv_Python\\SQlite3\\Hospitals.csv\")\n",
    "rows = csv.reader(a_file)\n",
    "next(rows, None)    # skip the headers\n",
    "cursor.executemany(\"INSERT INTO hospitals VALUES (?,?,?)\", rows)\n",
    "\n",
    "\n",
    "cursor.execute(\"SELECT * FROM hospitals\")\n",
    "\n",
    "\n",
    "print(\"\\t HOSPITAL INFORMATION TABLE \\n\")\n",
    "medic = cursor.fetchall()\n",
    "for medics in medic:\n",
    "    print(medics)\n",
    "    \n",
    "conn.commit()"
   ]
  },
  {
   "cell_type": "code",
   "execution_count": 15,
   "metadata": {},
   "outputs": [
    {
     "name": "stdout",
     "output_type": "stream",
     "text": [
      "\t DOCTORS INFORMATION TABLE \n",
      "\n",
      "(100, 'Antony Willies', 'antonyw@yahoo.com', 1, '7/7/2018', 'Family medicine', 120000, 8)\n",
      "(121, 'Emily Kimani', 'emilyw@hotmail.com', 5, '9/6/2000', 'Gynaecologist', 130000, 15)\n",
      "(143, 'Leeny  Jones', 'leenyj@outlook.com', 4, '11/18/2010', 'Dermatologist', 135000, 5)\n",
      "(156, 'Medrine Njuguna', 'mednju@gmail.com', 3, '5/24/2015', 'Neurosurgeon', 180000, 13)\n",
      "(234, 'Mary Walker', 'marywalker@yahoo.com', 2, '1/24/2006', 'Internal Medicine', 145000, 10)\n"
     ]
    }
   ],
   "source": [
    "# Loads a Doctors csv file into a sqlite table.\n",
    "\n",
    "conn = sqlite3.connect('medic1.db')\n",
    "cursor = conn.cursor()\n",
    "\n",
    "a_file = open(\"C:\\\\Users\\Emily Kimani\\Desktop\\Adv_Python\\SQlite3\\Doctors.csv\")\n",
    "rows = csv.reader(a_file)\n",
    "next(rows, None)    # skip the headers\n",
    "cursor.executemany(\"INSERT INTO doctors VALUES (?,?,?,?,?,?,?,?)\", rows)\n",
    "\n",
    "\n",
    "cursor.execute(\"SELECT * FROM doctors\")\n",
    "\n",
    "print(\"\\t DOCTORS INFORMATION TABLE \\n\")\n",
    "\n",
    "medic = cursor.fetchall()\n",
    "for medics in medic:\n",
    "    print(medics)\n",
    "    \n",
    "conn.commit()\n"
   ]
  },
  {
   "cell_type": "code",
   "execution_count": 16,
   "metadata": {},
   "outputs": [
    {
     "name": "stdout",
     "output_type": "stream",
     "text": [
      "(1, 'Kennestone Hospital', 300, 100, 'Antony Willies', 'antonyw@yahoo.com', 1, '7/7/2018', 'Family medicine', 120000, 8)\n",
      "(2, 'Kiambu District Hospital', 100, 234, 'Mary Walker', 'marywalker@yahoo.com', 2, '1/24/2006', 'Internal Medicine', 145000, 10)\n",
      "(3, 'Marietta City Hospital', 200, 156, 'Medrine Njuguna', 'mednju@gmail.com', 3, '5/24/2015', 'Neurosurgeon', 180000, 13)\n",
      "(4, 'Nyeri Provicial Hospital', 150, 143, 'Leeny  Jones', 'leenyj@outlook.com', 4, '11/18/2010', 'Dermatologist', 135000, 5)\n",
      "(5, 'Pandya Regional Hospital', 200, 121, 'Emily Kimani', 'emilyw@hotmail.com', 5, '9/6/2000', 'Gynaecologist', 130000, 15)\n"
     ]
    }
   ],
   "source": [
    "cursor.execute('''SELECT * FROM hospitals INNER JOIN doctors ON hospitals.hospital_id = doctors.hospital_id''')\n",
    "\n",
    "#print(cursor.fetchall())\n",
    "\n",
    "medic = cursor.fetchall()\n",
    "\n",
    "for medics in medic:\n",
    "    print(medics)\n"
   ]
  },
  {
   "cell_type": "code",
   "execution_count": 17,
   "metadata": {},
   "outputs": [
    {
     "name": "stdout",
     "output_type": "stream",
     "text": [
      "(100, 'Antony Willies', 'antonyw@yahoo.com', 1, '7/7/2018', 'Family medicine', 120000, 8, 'Kennestone Hospital', 300)\n",
      "(121, 'Emily Kimani', 'emilyw@hotmail.com', 5, '9/6/2000', 'Gynaecologist', 130000, 15, 'Pandya Regional Hospital', 200)\n",
      "(143, 'Leeny  Jones', 'leenyj@outlook.com', 4, '11/18/2010', 'Dermatologist', 135000, 5, 'Nyeri Provicial Hospital', 150)\n",
      "(156, 'Medrine Njuguna', 'mednju@gmail.com', 3, '5/24/2015', 'Neurosurgeon', 180000, 13, 'Marietta City Hospital', 200)\n",
      "(234, 'Mary Walker', 'marywalker@yahoo.com', 2, '1/24/2006', 'Internal Medicine', 145000, 10, 'Kiambu District Hospital', 100)\n"
     ]
    }
   ],
   "source": [
    "cursor.execute('''SELECT doctors.*,hospitals.hospital_name,hospitals.bed_count\n",
    "            FROM doctors, hospitals\n",
    "            WHERE doctors.hospital_id = hospitals.hospital_id''')\n",
    "\n",
    "#print(cursor.fetchall())\n",
    "\n",
    "medic = cursor.fetchall()\n",
    "\n",
    "for medics in medic:\n",
    "    print(medics)\n"
   ]
  },
  {
   "cell_type": "code",
   "execution_count": 18,
   "metadata": {},
   "outputs": [
    {
     "name": "stdout",
     "output_type": "stream",
     "text": [
      "[(1, 'Kennestone Hospital', 300), (2, 'Kiambu District Hospital', 100), (3, 'Marietta City Hospital', 200), (4, 'Nyeri Provicial Hospital', 150), (5, 'Pandya Regional Hospital', 200), (100, 'Emerson Hospital', 400), (6, 'Acworth Hospital', 200)]\n"
     ]
    }
   ],
   "source": [
    "# Add a record\n",
    "conn = sqlite3.connect('medic1.db')\n",
    "cursor = conn.cursor()\n",
    "\n",
    "cursor.execute('''INSERT INTO hospitals(HOSPITAL_ID,HOSPITAL_NAME,BED_COUNT) \n",
    "            VALUES(6, 'Acworth Hospital', 200)''')\n",
    "\n",
    "cursor.execute(\"SELECT * FROM hospitals\")\n",
    "\n",
    "print(cursor.fetchall())\n"
   ]
  },
  {
   "cell_type": "code",
   "execution_count": null,
   "metadata": {},
   "outputs": [],
   "source": []
  }
 ],
 "metadata": {
  "kernelspec": {
   "display_name": "Python 3",
   "language": "python",
   "name": "python3"
  },
  "language_info": {
   "codemirror_mode": {
    "name": "ipython",
    "version": 3
   },
   "file_extension": ".py",
   "mimetype": "text/x-python",
   "name": "python",
   "nbconvert_exporter": "python",
   "pygments_lexer": "ipython3",
   "version": "3.8.5"
  }
 },
 "nbformat": 4,
 "nbformat_minor": 4
}
